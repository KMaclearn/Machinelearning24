{
 "cells": [
  {
   "cell_type": "markdown",
   "id": "4f2bdfd9",
   "metadata": {
    "editable": true,
    "slideshow": {
     "slide_type": ""
    }
   },
   "source": [
    "# Counterfeit detection"
   ]
  },
  {
   "cell_type": "markdown",
   "id": "4932bc7a",
   "metadata": {},
   "source": [
    "The task in this assignment is to detect the  counterfeit banknotes. The data set is based on [banknote authentication Data Set ](https://archive.ics.uci.edu/ml/datasets/banknote+authentication#) from UCI Machine Learning repository. The first three columns denote different parameters obtained from the photographs of the banknotes and last colum provides the label. Frankly as the dataset does not have any description I don't know  which labels corresponds to real and which to counterfeited banknotes. let's assume that label one (positive) denotes the clounterfeits. The set  [banknote_authentication.csv](./data/banknote_authentication.csv) can be found in the `data`  directory."
   ]
  },
  {
   "cell_type": "code",
   "execution_count": 1,
   "id": "abccd7b3",
   "metadata": {},
   "outputs": [],
   "source": [
    "import pandas as pd\n",
    "import numpy as np\n",
    "import matplotlib.pyplot as plt\n",
    "import scipy.stats as st"
   ]
  },
  {
   "cell_type": "code",
   "execution_count": 2,
   "id": "bd44d2a9",
   "metadata": {
    "editable": true,
    "slideshow": {
     "slide_type": ""
    }
   },
   "outputs": [],
   "source": [
    "from sklearn.metrics import classification_report, ConfusionMatrixDisplay"
   ]
  },
  {
   "cell_type": "code",
   "execution_count": 3,
   "id": "5329f52a",
   "metadata": {},
   "outputs": [],
   "source": [
    "import  matplotlib.pyplot as plt\n",
    "plt.rcParams['figure.figsize']=(8,8)"
   ]
  },
  {
   "cell_type": "markdown",
   "id": "ef0b0c17",
   "metadata": {},
   "source": [
    "Please insert you  firstname  and name below"
   ]
  },
  {
   "cell_type": "code",
   "execution_count": 4,
   "id": "b70f6d94",
   "metadata": {},
   "outputs": [],
   "source": [
    "from  sklearn.model_selection import train_test_split\n",
    "seed = 31287"
   ]
  },
  {
   "cell_type": "code",
   "execution_count": 5,
   "id": "e3627220",
   "metadata": {},
   "outputs": [],
   "source": [
    "data = pd.read_csv('data/banknotes_data.csv')"
   ]
  },
  {
   "cell_type": "code",
   "execution_count": 6,
   "id": "40e32a9f",
   "metadata": {},
   "outputs": [
    {
     "data": {
      "text/html": [
       "<div>\n",
       "<style scoped>\n",
       "    .dataframe tbody tr th:only-of-type {\n",
       "        vertical-align: middle;\n",
       "    }\n",
       "\n",
       "    .dataframe tbody tr th {\n",
       "        vertical-align: top;\n",
       "    }\n",
       "\n",
       "    .dataframe thead th {\n",
       "        text-align: right;\n",
       "    }\n",
       "</style>\n",
       "<table border=\"1\" class=\"dataframe\">\n",
       "  <thead>\n",
       "    <tr style=\"text-align: right;\">\n",
       "      <th></th>\n",
       "      <th>a0</th>\n",
       "      <th>a1</th>\n",
       "      <th>a2</th>\n",
       "      <th>a3</th>\n",
       "      <th>counterfeit</th>\n",
       "    </tr>\n",
       "  </thead>\n",
       "  <tbody>\n",
       "    <tr>\n",
       "      <th>0</th>\n",
       "      <td>-1.1306</td>\n",
       "      <td>1.8458</td>\n",
       "      <td>-1.35750</td>\n",
       "      <td>-1.38060</td>\n",
       "      <td>1</td>\n",
       "    </tr>\n",
       "    <tr>\n",
       "      <th>1</th>\n",
       "      <td>-1.1188</td>\n",
       "      <td>3.3357</td>\n",
       "      <td>-1.34550</td>\n",
       "      <td>-1.95730</td>\n",
       "      <td>1</td>\n",
       "    </tr>\n",
       "    <tr>\n",
       "      <th>2</th>\n",
       "      <td>2.6719</td>\n",
       "      <td>3.0646</td>\n",
       "      <td>0.37158</td>\n",
       "      <td>0.58619</td>\n",
       "      <td>0</td>\n",
       "    </tr>\n",
       "    <tr>\n",
       "      <th>3</th>\n",
       "      <td>-4.1409</td>\n",
       "      <td>3.4619</td>\n",
       "      <td>-0.47841</td>\n",
       "      <td>-3.88790</td>\n",
       "      <td>1</td>\n",
       "    </tr>\n",
       "    <tr>\n",
       "      <th>4</th>\n",
       "      <td>1.4507</td>\n",
       "      <td>8.7903</td>\n",
       "      <td>-2.23240</td>\n",
       "      <td>-0.65259</td>\n",
       "      <td>0</td>\n",
       "    </tr>\n",
       "  </tbody>\n",
       "</table>\n",
       "</div>"
      ],
      "text/plain": [
       "       a0      a1       a2       a3  counterfeit\n",
       "0 -1.1306  1.8458 -1.35750 -1.38060            1\n",
       "1 -1.1188  3.3357 -1.34550 -1.95730            1\n",
       "2  2.6719  3.0646  0.37158  0.58619            0\n",
       "3 -4.1409  3.4619 -0.47841 -3.88790            1\n",
       "4  1.4507  8.7903 -2.23240 -0.65259            0"
      ]
     },
     "execution_count": 6,
     "metadata": {},
     "output_type": "execute_result"
    }
   ],
   "source": [
    "data.head()"
   ]
  },
  {
   "cell_type": "code",
   "execution_count": 7,
   "id": "bfdb0554",
   "metadata": {
    "tags": [
     "skip"
    ]
   },
   "outputs": [
    {
     "data": {
      "text/html": [
       "<div>\n",
       "<style scoped>\n",
       "    .dataframe tbody tr th:only-of-type {\n",
       "        vertical-align: middle;\n",
       "    }\n",
       "\n",
       "    .dataframe tbody tr th {\n",
       "        vertical-align: top;\n",
       "    }\n",
       "\n",
       "    .dataframe thead th {\n",
       "        text-align: right;\n",
       "    }\n",
       "</style>\n",
       "<table border=\"1\" class=\"dataframe\">\n",
       "  <thead>\n",
       "    <tr style=\"text-align: right;\">\n",
       "      <th></th>\n",
       "      <th>a0</th>\n",
       "      <th>a1</th>\n",
       "      <th>a2</th>\n",
       "      <th>a3</th>\n",
       "      <th>counterfeit</th>\n",
       "    </tr>\n",
       "  </thead>\n",
       "  <tbody>\n",
       "    <tr>\n",
       "      <th>count</th>\n",
       "      <td>1166.000000</td>\n",
       "      <td>1166.000000</td>\n",
       "      <td>1166.000000</td>\n",
       "      <td>1166.000000</td>\n",
       "      <td>1166.000000</td>\n",
       "    </tr>\n",
       "    <tr>\n",
       "      <th>mean</th>\n",
       "      <td>0.431116</td>\n",
       "      <td>1.902054</td>\n",
       "      <td>1.426607</td>\n",
       "      <td>-1.220393</td>\n",
       "      <td>0.444254</td>\n",
       "    </tr>\n",
       "    <tr>\n",
       "      <th>std</th>\n",
       "      <td>2.845672</td>\n",
       "      <td>5.942260</td>\n",
       "      <td>4.397341</td>\n",
       "      <td>2.101777</td>\n",
       "      <td>0.497096</td>\n",
       "    </tr>\n",
       "    <tr>\n",
       "      <th>min</th>\n",
       "      <td>-7.042100</td>\n",
       "      <td>-13.773100</td>\n",
       "      <td>-5.286100</td>\n",
       "      <td>-7.871900</td>\n",
       "      <td>0.000000</td>\n",
       "    </tr>\n",
       "    <tr>\n",
       "      <th>25%</th>\n",
       "      <td>-1.770900</td>\n",
       "      <td>-1.916200</td>\n",
       "      <td>-1.664300</td>\n",
       "      <td>-2.466150</td>\n",
       "      <td>0.000000</td>\n",
       "    </tr>\n",
       "    <tr>\n",
       "      <th>50%</th>\n",
       "      <td>0.471345</td>\n",
       "      <td>2.408650</td>\n",
       "      <td>0.567365</td>\n",
       "      <td>-0.614450</td>\n",
       "      <td>0.000000</td>\n",
       "    </tr>\n",
       "    <tr>\n",
       "      <th>75%</th>\n",
       "      <td>2.816925</td>\n",
       "      <td>6.800675</td>\n",
       "      <td>3.338825</td>\n",
       "      <td>0.394810</td>\n",
       "      <td>1.000000</td>\n",
       "    </tr>\n",
       "    <tr>\n",
       "      <th>max</th>\n",
       "      <td>6.824800</td>\n",
       "      <td>12.730200</td>\n",
       "      <td>17.927400</td>\n",
       "      <td>2.449500</td>\n",
       "      <td>1.000000</td>\n",
       "    </tr>\n",
       "  </tbody>\n",
       "</table>\n",
       "</div>"
      ],
      "text/plain": [
       "                a0           a1           a2           a3  counterfeit\n",
       "count  1166.000000  1166.000000  1166.000000  1166.000000  1166.000000\n",
       "mean      0.431116     1.902054     1.426607    -1.220393     0.444254\n",
       "std       2.845672     5.942260     4.397341     2.101777     0.497096\n",
       "min      -7.042100   -13.773100    -5.286100    -7.871900     0.000000\n",
       "25%      -1.770900    -1.916200    -1.664300    -2.466150     0.000000\n",
       "50%       0.471345     2.408650     0.567365    -0.614450     0.000000\n",
       "75%       2.816925     6.800675     3.338825     0.394810     1.000000\n",
       "max       6.824800    12.730200    17.927400     2.449500     1.000000"
      ]
     },
     "execution_count": 7,
     "metadata": {},
     "output_type": "execute_result"
    }
   ],
   "source": [
    "data.describe()"
   ]
  },
  {
   "cell_type": "code",
   "execution_count": 8,
   "id": "815fd0a3",
   "metadata": {
    "tags": [
     "skip"
    ]
   },
   "outputs": [
    {
     "name": "stdout",
     "output_type": "stream",
     "text": [
      "<class 'pandas.core.frame.DataFrame'>\n",
      "RangeIndex: 1166 entries, 0 to 1165\n",
      "Data columns (total 5 columns):\n",
      " #   Column       Non-Null Count  Dtype  \n",
      "---  ------       --------------  -----  \n",
      " 0   a0           1166 non-null   float64\n",
      " 1   a1           1166 non-null   float64\n",
      " 2   a2           1166 non-null   float64\n",
      " 3   a3           1166 non-null   float64\n",
      " 4   counterfeit  1166 non-null   int64  \n",
      "dtypes: float64(4), int64(1)\n",
      "memory usage: 45.7 KB\n"
     ]
    }
   ],
   "source": [
    "data.info()"
   ]
  },
  {
   "cell_type": "code",
   "execution_count": 9,
   "id": "a373d54d",
   "metadata": {},
   "outputs": [],
   "source": [
    "data_train, data_test = train_test_split(data, test_size=0.2, shuffle=True, stratify=data.loc[:,'counterfeit'], random_state=seed)"
   ]
  },
  {
   "cell_type": "code",
   "execution_count": 10,
   "id": "0fdbae7c",
   "metadata": {
    "editable": true,
    "slideshow": {
     "slide_type": ""
    }
   },
   "outputs": [
    {
     "data": {
      "text/html": [
       "<div>\n",
       "<style scoped>\n",
       "    .dataframe tbody tr th:only-of-type {\n",
       "        vertical-align: middle;\n",
       "    }\n",
       "\n",
       "    .dataframe tbody tr th {\n",
       "        vertical-align: top;\n",
       "    }\n",
       "\n",
       "    .dataframe thead th {\n",
       "        text-align: right;\n",
       "    }\n",
       "</style>\n",
       "<table border=\"1\" class=\"dataframe\">\n",
       "  <thead>\n",
       "    <tr style=\"text-align: right;\">\n",
       "      <th></th>\n",
       "      <th>a0</th>\n",
       "      <th>a1</th>\n",
       "      <th>a2</th>\n",
       "      <th>a3</th>\n",
       "      <th>counterfeit</th>\n",
       "    </tr>\n",
       "  </thead>\n",
       "  <tbody>\n",
       "    <tr>\n",
       "      <th>711</th>\n",
       "      <td>1.94760</td>\n",
       "      <td>-4.773800</td>\n",
       "      <td>8.52700</td>\n",
       "      <td>-1.866800</td>\n",
       "      <td>0</td>\n",
       "    </tr>\n",
       "    <tr>\n",
       "      <th>565</th>\n",
       "      <td>1.42760</td>\n",
       "      <td>8.384700</td>\n",
       "      <td>-2.09950</td>\n",
       "      <td>-1.967700</td>\n",
       "      <td>0</td>\n",
       "    </tr>\n",
       "    <tr>\n",
       "      <th>912</th>\n",
       "      <td>-4.28590</td>\n",
       "      <td>8.523400</td>\n",
       "      <td>3.13920</td>\n",
       "      <td>-0.916390</td>\n",
       "      <td>0</td>\n",
       "    </tr>\n",
       "    <tr>\n",
       "      <th>64</th>\n",
       "      <td>4.92490</td>\n",
       "      <td>0.689060</td>\n",
       "      <td>0.77344</td>\n",
       "      <td>1.209500</td>\n",
       "      <td>0</td>\n",
       "    </tr>\n",
       "    <tr>\n",
       "      <th>871</th>\n",
       "      <td>2.19480</td>\n",
       "      <td>1.378100</td>\n",
       "      <td>1.15820</td>\n",
       "      <td>0.857740</td>\n",
       "      <td>0</td>\n",
       "    </tr>\n",
       "    <tr>\n",
       "      <th>...</th>\n",
       "      <td>...</td>\n",
       "      <td>...</td>\n",
       "      <td>...</td>\n",
       "      <td>...</td>\n",
       "      <td>...</td>\n",
       "    </tr>\n",
       "    <tr>\n",
       "      <th>47</th>\n",
       "      <td>-2.45610</td>\n",
       "      <td>-4.556600</td>\n",
       "      <td>6.45340</td>\n",
       "      <td>-0.056479</td>\n",
       "      <td>1</td>\n",
       "    </tr>\n",
       "    <tr>\n",
       "      <th>1161</th>\n",
       "      <td>1.21380</td>\n",
       "      <td>8.798600</td>\n",
       "      <td>-2.16720</td>\n",
       "      <td>-0.741820</td>\n",
       "      <td>0</td>\n",
       "    </tr>\n",
       "    <tr>\n",
       "      <th>174</th>\n",
       "      <td>5.87820</td>\n",
       "      <td>5.940900</td>\n",
       "      <td>-2.85440</td>\n",
       "      <td>-0.608630</td>\n",
       "      <td>0</td>\n",
       "    </tr>\n",
       "    <tr>\n",
       "      <th>1119</th>\n",
       "      <td>0.17346</td>\n",
       "      <td>7.869500</td>\n",
       "      <td>0.26876</td>\n",
       "      <td>-3.788300</td>\n",
       "      <td>0</td>\n",
       "    </tr>\n",
       "    <tr>\n",
       "      <th>1129</th>\n",
       "      <td>-2.68640</td>\n",
       "      <td>-0.097265</td>\n",
       "      <td>0.61663</td>\n",
       "      <td>0.061192</td>\n",
       "      <td>1</td>\n",
       "    </tr>\n",
       "  </tbody>\n",
       "</table>\n",
       "<p>932 rows × 5 columns</p>\n",
       "</div>"
      ],
      "text/plain": [
       "           a0        a1       a2        a3  counterfeit\n",
       "711   1.94760 -4.773800  8.52700 -1.866800            0\n",
       "565   1.42760  8.384700 -2.09950 -1.967700            0\n",
       "912  -4.28590  8.523400  3.13920 -0.916390            0\n",
       "64    4.92490  0.689060  0.77344  1.209500            0\n",
       "871   2.19480  1.378100  1.15820  0.857740            0\n",
       "...       ...       ...      ...       ...          ...\n",
       "47   -2.45610 -4.556600  6.45340 -0.056479            1\n",
       "1161  1.21380  8.798600 -2.16720 -0.741820            0\n",
       "174   5.87820  5.940900 -2.85440 -0.608630            0\n",
       "1119  0.17346  7.869500  0.26876 -3.788300            0\n",
       "1129 -2.68640 -0.097265  0.61663  0.061192            1\n",
       "\n",
       "[932 rows x 5 columns]"
      ]
     },
     "execution_count": 10,
     "metadata": {},
     "output_type": "execute_result"
    }
   ],
   "source": [
    "data_train"
   ]
  },
  {
   "cell_type": "code",
   "execution_count": 11,
   "id": "3f746f35",
   "metadata": {},
   "outputs": [],
   "source": [
    "lbls_train = data_train['counterfeit']\n",
    "lbls_test = data_test['counterfeit']"
   ]
  },
  {
   "cell_type": "code",
   "execution_count": 12,
   "id": "63e6d363",
   "metadata": {},
   "outputs": [
    {
     "data": {
      "image/png": "[encoded data removed]",
      "text/plain": [
       "<Figure size 2200x500 with 4 Axes>"
      ]
     },
     "metadata": {},
     "output_type": "display_data"
    }
   ],
   "source": [
    "fig, ax = plt.subplots(1,4, figsize=(22,5))\n",
    "for i in range(4):\n",
    "    ax[i].hist(data_train[lbls_train==0].iloc[:,i], bins=32, histtype='step', color='blue')\n",
    "    ax[i].hist(data_train[lbls_train==1].iloc[:,i], bins=32, histtype='step', color='red')\n",
    "    ax[i].hist(data_train[lbls_train==0].iloc[:,i], bins=32, histtype='bar', color='lightblue', alpha=0.25)\n",
    "    ax[i].hist(data_train[lbls_train==1].iloc[:,i], bins=32, histtype='bar', color='orange', alpha =0.25)"
   ]
  },
  {
   "cell_type": "markdown",
   "id": "60f16611",
   "metadata": {
    "editable": true,
    "slideshow": {
     "slide_type": ""
    }
   },
   "source": [
    "## Problem 1"
   ]
  },
  {
   "cell_type": "markdown",
   "id": "f7e29815",
   "metadata": {},
   "source": [
    "Using  the [GaussianNB](https://scikit-learn.org/stable/modules/generated/sklearn.naive_bayes.GaussianNB.html) function construct the  Gaussian  Bayes classifier using only one feature. Which feature will you choose? Calculate the confusion matrix (normalized as to show rates), ROC AUC score and plot ROC curve. Do this both for training and validation set. Plot both curves on the same plot.  "
   ]
  },
  {
   "cell_type": "code",
   "execution_count": 13,
   "id": "29348de8",
   "metadata": {},
   "outputs": [],
   "source": [
    "from sklearn.naive_bayes import GaussianNB\n",
    "from sklearn.metrics import roc_auc_score, roc_curve, confusion_matrix\n",
    "import pandas as pd\n",
    "import numpy as np\n",
    "import matplotlib.pyplot as plt\n",
    "from sklearn.naive_bayes import GaussianNB\n",
    "from sklearn.metrics import roc_auc_score, roc_curve, confusion_matrix\n",
    "from sklearn.model_selection import train_test_split\n",
    "import itertools\n",
    "from sklearn.metrics import auc"
   ]
  },
  {
   "cell_type": "code",
   "execution_count": 14,
   "id": "855a538b-28fc-4b5b-9816-762e583f1292",
   "metadata": {},
   "outputs": [
    {
     "data": {
      "image/png": "[encoded data removed]",
      "text/plain": [
       "<Figure size 800x800 with 1 Axes>"
      ]
     },
     "metadata": {},
     "output_type": "display_data"
    },
    {
     "name": "stdout",
     "output_type": "stream",
     "text": [
      "Train AUC: 0.92\n",
      "Test AUC: 0.94\n",
      "Normalized Confusion Matrix (Training Set):\n",
      "[[0.85328185 0.14671815]\n",
      " [0.17149758 0.82850242]]\n",
      "Normalized Confusion Matrix (Test Set):\n",
      "[[0.87692308 0.12307692]\n",
      " [0.18269231 0.81730769]]\n"
     ]
    }
   ],
   "source": [
    "data = pd.read_csv('data/banknotes_data.csv')\n",
    "seed = 31287\n",
    "stratify_col = data['counterfeit']\n",
    "data_train, data_test = train_test_split(data, test_size=0.2, shuffle=True, stratify=stratify_col, random_state=seed)\n",
    "\n",
    "\n",
    "lbls_train = data_train['counterfeit']\n",
    "lbls_test = data_test['counterfeit']\n",
    "\n",
    "gnb = GaussianNB()\n",
    "\n",
    "best_feature = max(['a0', 'a1', 'a2', 'a3'], key=lambda feature: roc_auc_score(lbls_train, gnb.fit(data_train[[feature]], lbls_train).predict_proba(data_train[[feature]])[:, 1]))\n",
    "gnb.fit(data_train[[best_feature]], lbls_train)\n",
    "\n",
    "train_probs = gnb.predict_proba(data_train[[best_feature]])[:, 1]\n",
    "test_probs = gnb.predict_proba(data_test[[best_feature]])[:, 1]\n",
    "train_auc = roc_auc_score(lbls_train, train_probs)\n",
    "test_auc = roc_auc_score(lbls_test, test_probs)\n",
    "\n",
    "train_fpr, train_tpr, _ = roc_curve(lbls_train, train_probs)\n",
    "test_fpr, test_tpr, _ = roc_curve(lbls_test, test_probs)\n",
    "plt.plot(train_fpr, train_tpr, label=f'Train Set (AUC = {train_auc:.2f})')\n",
    "plt.plot(test_fpr, test_tpr, label=f'Test Set (AUC = {test_auc:.2f})')\n",
    "plt.xlabel('False Positive Rate')\n",
    "plt.ylabel('True Positive Rate')\n",
    "plt.title(f'ROC Curve using feature: {best_feature}')\n",
    "plt.legend(loc='lower right')\n",
    "plt.show()\n",
    "\n",
    "print(f'Train AUC: {train_auc:.2f}')\n",
    "print(f'Test AUC: {test_auc:.2f}')\n",
    "\n",
    "cm_train = confusion_matrix(lbls_train, gnb.predict(data_train[[best_feature]]), normalize='true')\n",
    "cm_test = confusion_matrix(lbls_test, gnb.predict(data_test[[best_feature]]), normalize='true')\n",
    "print(\"Normalized Confusion Matrix (Training Set):\")\n",
    "print(cm_train)\n",
    "print(\"Normalized Confusion Matrix (Test Set):\")\n",
    "print(cm_test)"
   ]
  },
  {
   "cell_type": "markdown",
   "id": "ec7e7cf8",
   "metadata": {
    "editable": true,
    "slideshow": {
     "slide_type": ""
    }
   },
   "source": [
    "__Hint__ For calculating metrics and plotting ROC curves you may use functions from scikit-learn: `roc_curve`, `roc_auc_score` and `confusion matrix`. For estimating normal distribution parameters  use `norm.fit` `from scipy.stats`. Use `norm.pdf` for normal probability density function."
   ]
  },
  {
   "cell_type": "code",
   "execution_count": 15,
   "id": "ec8e331f",
   "metadata": {
    "editable": true,
    "slideshow": {
     "slide_type": ""
    }
   },
   "outputs": [
    {
     "data": {
      "text/html": [
       "<div>\n",
       "<style scoped>\n",
       "    .dataframe tbody tr th:only-of-type {\n",
       "        vertical-align: middle;\n",
       "    }\n",
       "\n",
       "    .dataframe tbody tr th {\n",
       "        vertical-align: top;\n",
       "    }\n",
       "\n",
       "    .dataframe thead th {\n",
       "        text-align: right;\n",
       "    }\n",
       "</style>\n",
       "<table border=\"1\" class=\"dataframe\">\n",
       "  <thead>\n",
       "    <tr style=\"text-align: right;\">\n",
       "      <th></th>\n",
       "      <th>a0</th>\n",
       "      <th>a1</th>\n",
       "      <th>a2</th>\n",
       "      <th>a3</th>\n",
       "      <th>counterfeit</th>\n",
       "    </tr>\n",
       "  </thead>\n",
       "  <tbody>\n",
       "    <tr>\n",
       "      <th>711</th>\n",
       "      <td>1.94760</td>\n",
       "      <td>-4.773800</td>\n",
       "      <td>8.52700</td>\n",
       "      <td>-1.866800</td>\n",
       "      <td>0</td>\n",
       "    </tr>\n",
       "    <tr>\n",
       "      <th>565</th>\n",
       "      <td>1.42760</td>\n",
       "      <td>8.384700</td>\n",
       "      <td>-2.09950</td>\n",
       "      <td>-1.967700</td>\n",
       "      <td>0</td>\n",
       "    </tr>\n",
       "    <tr>\n",
       "      <th>912</th>\n",
       "      <td>-4.28590</td>\n",
       "      <td>8.523400</td>\n",
       "      <td>3.13920</td>\n",
       "      <td>-0.916390</td>\n",
       "      <td>0</td>\n",
       "    </tr>\n",
       "    <tr>\n",
       "      <th>64</th>\n",
       "      <td>4.92490</td>\n",
       "      <td>0.689060</td>\n",
       "      <td>0.77344</td>\n",
       "      <td>1.209500</td>\n",
       "      <td>0</td>\n",
       "    </tr>\n",
       "    <tr>\n",
       "      <th>871</th>\n",
       "      <td>2.19480</td>\n",
       "      <td>1.378100</td>\n",
       "      <td>1.15820</td>\n",
       "      <td>0.857740</td>\n",
       "      <td>0</td>\n",
       "    </tr>\n",
       "    <tr>\n",
       "      <th>...</th>\n",
       "      <td>...</td>\n",
       "      <td>...</td>\n",
       "      <td>...</td>\n",
       "      <td>...</td>\n",
       "      <td>...</td>\n",
       "    </tr>\n",
       "    <tr>\n",
       "      <th>47</th>\n",
       "      <td>-2.45610</td>\n",
       "      <td>-4.556600</td>\n",
       "      <td>6.45340</td>\n",
       "      <td>-0.056479</td>\n",
       "      <td>1</td>\n",
       "    </tr>\n",
       "    <tr>\n",
       "      <th>1161</th>\n",
       "      <td>1.21380</td>\n",
       "      <td>8.798600</td>\n",
       "      <td>-2.16720</td>\n",
       "      <td>-0.741820</td>\n",
       "      <td>0</td>\n",
       "    </tr>\n",
       "    <tr>\n",
       "      <th>174</th>\n",
       "      <td>5.87820</td>\n",
       "      <td>5.940900</td>\n",
       "      <td>-2.85440</td>\n",
       "      <td>-0.608630</td>\n",
       "      <td>0</td>\n",
       "    </tr>\n",
       "    <tr>\n",
       "      <th>1119</th>\n",
       "      <td>0.17346</td>\n",
       "      <td>7.869500</td>\n",
       "      <td>0.26876</td>\n",
       "      <td>-3.788300</td>\n",
       "      <td>0</td>\n",
       "    </tr>\n",
       "    <tr>\n",
       "      <th>1129</th>\n",
       "      <td>-2.68640</td>\n",
       "      <td>-0.097265</td>\n",
       "      <td>0.61663</td>\n",
       "      <td>0.061192</td>\n",
       "      <td>1</td>\n",
       "    </tr>\n",
       "  </tbody>\n",
       "</table>\n",
       "<p>932 rows × 5 columns</p>\n",
       "</div>"
      ],
      "text/plain": [
       "           a0        a1       a2        a3  counterfeit\n",
       "711   1.94760 -4.773800  8.52700 -1.866800            0\n",
       "565   1.42760  8.384700 -2.09950 -1.967700            0\n",
       "912  -4.28590  8.523400  3.13920 -0.916390            0\n",
       "64    4.92490  0.689060  0.77344  1.209500            0\n",
       "871   2.19480  1.378100  1.15820  0.857740            0\n",
       "...       ...       ...      ...       ...          ...\n",
       "47   -2.45610 -4.556600  6.45340 -0.056479            1\n",
       "1161  1.21380  8.798600 -2.16720 -0.741820            0\n",
       "174   5.87820  5.940900 -2.85440 -0.608630            0\n",
       "1119  0.17346  7.869500  0.26876 -3.788300            0\n",
       "1129 -2.68640 -0.097265  0.61663  0.061192            1\n",
       "\n",
       "[932 rows x 5 columns]"
      ]
     },
     "execution_count": 15,
     "metadata": {},
     "output_type": "execute_result"
    }
   ],
   "source": [
    "data_train"
   ]
  },
  {
   "cell_type": "markdown",
   "id": "d9d139c1",
   "metadata": {
    "editable": true,
    "slideshow": {
     "slide_type": ""
    }
   },
   "source": [
    "## Problem 2"
   ]
  },
  {
   "cell_type": "markdown",
   "id": "516fbf1e",
   "metadata": {
    "editable": true,
    "slideshow": {
     "slide_type": ""
    }
   },
   "source": [
    "Same as Problem 1 but now construct Gaussian Naive Bayes using two features. Additionally  compare ROC curve obtained with this and previous  classifier on the test set. What is the improvement of AUC score on the test set?"
   ]
  },
  {
   "cell_type": "code",
   "execution_count": 16,
   "id": "8ec758a2-098b-4b46-b1ad-ccff93dd4a2e",
   "metadata": {},
   "outputs": [
    {
     "data": {
      "image/png": "[encoded data removed]",
      "text/plain": [
       "<Figure size 1000x600 with 1 Axes>"
      ]
     },
     "metadata": {},
     "output_type": "display_data"
    },
    {
     "name": "stdout",
     "output_type": "stream",
     "text": [
      "Improvement in AUC score is: 0.02\n"
     ]
    }
   ],
   "source": [
    "best_features = None\n",
    "best_auc_test = 0\n",
    "\n",
    "for features in itertools.combinations(['a0', 'a1', 'a2', 'a3'], 2):\n",
    "    gnb.fit(data_train[list(features)], lbls_train)\n",
    "    test_probs = gnb.predict_proba(data_test[list(features)])[:, 1]\n",
    "    auc_test = roc_auc_score(lbls_test, test_probs)\n",
    "    if auc_test > best_auc_test:\n",
    "        best_auc_test = auc_test\n",
    "        best_features = features\n",
    "\n",
    "gnb.fit(data_train[list(best_features)], lbls_train)\n",
    "\n",
    "test_probs_best_features = gnb.predict_proba(data_test[list(best_features)])[:, 1]\n",
    "test_auc_best_features = roc_auc_score(lbls_test, test_probs_best_features)\n",
    "test_fpr_best_features, test_tpr_best_features, _ = roc_curve(lbls_test, test_probs_best_features)\n",
    "\n",
    "plt.figure(figsize=(10, 6))\n",
    "plt.plot(test_fpr, test_tpr, label=f'Single Feature Test Set (AUC = {test_auc:.2f})')\n",
    "plt.plot(test_fpr_best_features, test_tpr_best_features, label=f'Two Features Test Set (AUC = {test_auc_best_features:.2f})')\n",
    "plt.xlabel('False Positive Rate')\n",
    "plt.ylabel('True Positive Rate')\n",
    "plt.title('ROC Curve Comparison')\n",
    "plt.legend(loc='lower right')\n",
    "plt.show()\n",
    "\n",
    "auc_improvement = test_auc_best_features - test_auc\n",
    "print(f'Improvement in AUC score is: {auc_improvement:.2f}')"
   ]
  },
  {
   "cell_type": "code",
   "execution_count": null,
   "id": "320226d6-2e36-4029-a36d-10f9cdac9a3f",
   "metadata": {},
   "outputs": [],
   "source": []
  },
  {
   "cell_type": "markdown",
   "id": "8d7ab25c",
   "metadata": {
    "editable": true,
    "slideshow": {
     "slide_type": ""
    }
   },
   "source": [
    "## Problem 3"
   ]
  },
  {
   "cell_type": "raw",
   "id": "c7efcafe",
   "metadata": {
    "editable": true,
    "raw_mimetype": "",
    "slideshow": {
     "slide_type": ""
    }
   },
   "source": [
    "Same as Problem 2 but now implement Gaussian Naive Bayes using all features. Show confusion matrix only for test set. Compare all three ROC curves on the test set, same with AUC score."
   ]
  },
  {
   "cell_type": "code",
   "execution_count": 18,
   "id": "d5589c94-5a8b-4d5c-9f73-3c1b046f681b",
   "metadata": {},
   "outputs": [
    {
     "data": {
      "image/png": "[encoded data removed]",
      "text/plain": [
       "<Figure size 1000x600 with 1 Axes>"
      ]
     },
     "metadata": {},
     "output_type": "display_data"
    },
    {
     "name": "stdout",
     "output_type": "stream",
     "text": [
      "Single Feature Test AUC: 0.94\n",
      "Two Features Test AUC: 0.96\n",
      "All Features Test AUC: 0.95\n",
      "Normalized Confusion Matrix (Test Set) using all features:\n",
      "[[0.89230769 0.10769231]\n",
      " [0.20192308 0.79807692]]\n"
     ]
    }
   ],
   "source": [
    "gnb.fit(data_train[['a0', 'a1', 'a2', 'a3']], lbls_train)\n",
    "\n",
    "test_probs_all_features = gnb.predict_proba(data_test[['a0', 'a1', 'a2', 'a3']])[:, 1]\n",
    "test_auc_all_features = roc_auc_score(lbls_test, test_probs_all_features)\n",
    "\n",
    "test_fpr_all_features, test_tpr_all_features, _ = roc_curve(lbls_test, test_probs_all_features)\n",
    "\n",
    "plt.figure(figsize=(10, 6))\n",
    "plt.plot(test_fpr, test_tpr, label=f'Single Feature (AUC = {test_auc:.2f})')\n",
    "plt.plot(test_fpr_best_features, test_tpr_best_features, label=f'Two Features (AUC = {test_auc_best_features:.2f})')\n",
    "plt.plot(test_fpr_all_features, test_tpr_all_features, label=f'All Features (AUC = {test_auc_all_features:.2f})')\n",
    "plt.xlabel('False Positive Rate')\n",
    "plt.ylabel('True Positive Rate')\n",
    "plt.title('ROC Curve Comparison')\n",
    "plt.legend(loc='lower right')\n",
    "plt.show()\n",
    "\n",
    "print(f'Single Feature Test AUC: {test_auc:.2f}')\n",
    "print(f'Two Features Test AUC: {test_auc_best_features:.2f}')\n",
    "print(f'All Features Test AUC: {test_auc_all_features:.2f}')\n",
    "\n",
    "cm_test_all_features = confusion_matrix(lbls_test, gnb.predict(data_test[['a0', 'a1', 'a2', 'a3']]), normalize='true')\n",
    "print(\"Normalized Confusion Matrix (Test Set) using all features:\")\n",
    "print(cm_test_all_features)"
   ]
  },
  {
   "cell_type": "code",
   "execution_count": null,
   "id": "3c89cd25-3707-42dd-8344-c3534ef259b4",
   "metadata": {},
   "outputs": [],
   "source": []
  }
 ],
 "metadata": {
  "kernelspec": {
   "display_name": "Python 3 (ipykernel)",
   "language": "python",
   "name": "python3"
  },
  "language_info": {
   "codemirror_mode": {
    "name": "ipython",
    "version": 3
   },
   "file_extension": ".py",
   "mimetype": "text/x-python",
   "name": "python",
   "nbconvert_exporter": "python",
   "pygments_lexer": "ipython3",
   "version": "3.12.3"
  }
 },
 "nbformat": 4,
 "nbformat_minor": 5
}
